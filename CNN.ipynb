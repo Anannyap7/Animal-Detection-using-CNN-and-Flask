{
 "cells": [
  {
   "cell_type": "markdown",
   "metadata": {},
   "source": [
    "## CNN"
   ]
  },
  {
   "cell_type": "markdown",
   "metadata": {},
   "source": [
    "**STEPS INVOLVED:**\n",
    "1. Import the libraries\n",
    "2. Image Processing and Data Augmentation\n",
    "3. Initialize the model\n",
    "4. Add Convolution Layer _(image size, how many feature detectors, size of featire detectors)_\n",
    "5. Add Pooling Layer\n",
    "6. Add Flatten Layer\n",
    "7. Add I/P layer\n",
    "8. Add Hidden Layers\n",
    "9. Add O/P Layer\n",
    "10. Compile the process\n",
    "11. Train the data\n",
    "12. Save the model\n",
    "13. Test the model"
   ]
  },
  {
   "cell_type": "markdown",
   "metadata": {},
   "source": [
    "**HOW TO MAKE A DATASET?**\n",
    "1. ***Make a main folder for categorical o/p***\n",
    "\n",
    "> Inside it, _Test Folder_ : chairs (30 images), pens (30), fans (30), tables(30)\n",
    "\n",
    "> _Train Folder_ : chairs (70), pens (70), fans (70), tables (70)\n",
    "\n",
    "2. ***Make a main folder for classification o/p***\n",
    "\n",
    "> _Test Set_: healthy (30), non-healthy (30)\n",
    "\n",
    "> _Train set_: healthy (70), non-healthy (70)\n",
    "\n",
    "3. ___Higher the images, higher the accuracy___"
   ]
  },
  {
   "cell_type": "markdown",
   "metadata": {},
   "source": [
    "## 1. Import Libraries"
   ]
  },
  {
   "cell_type": "code",
   "execution_count": 1,
   "metadata": {},
   "outputs": [],
   "source": [
    "from tensorflow.keras.models import Sequential\n",
    "from tensorflow.keras.layers import Dense, Convolution2D, MaxPooling2D, Flatten, Dropout"
   ]
  },
  {
   "cell_type": "markdown",
   "metadata": {},
   "source": [
    "## 2. Image Preprocessing\n",
    "> **Augmenting** the images by applying some more featires and rescaling it.\n",
    "\n",
    "> ___Augmentation:___ In order to make the training more accurate, train the images from different angles. **Rescaling** the images"
   ]
  },
  {
   "cell_type": "code",
   "execution_count": 2,
   "metadata": {},
   "outputs": [],
   "source": [
    "from tensorflow.keras.preprocessing.image import ImageDataGenerator\n",
    "\n",
    "# rescale - scaling the images into a single range\n",
    "# Here, the image is getting zoomed and flipped\n",
    "# shear_range - the image can be stretched either in the s or y direction (stretched images)\n",
    "\n",
    "train_datagen = ImageDataGenerator (rescale = 1./255, shear_range = 0.2, zoom_range = 0.2, horizontal_flip = True)\n",
    "test_datagen = ImageDataGenerator (rescale = 1./255)"
   ]
  },
  {
   "cell_type": "code",
   "execution_count": 3,
   "metadata": {},
   "outputs": [
    {
     "name": "stdout",
     "output_type": "stream",
     "text": [
      "Found 1495 images belonging to 5 classes.\n",
      "Found 640 images belonging to 5 classes.\n"
     ]
    }
   ],
   "source": [
    "# Since all the images are of different sizes, we make them of similar sizes using target_size\n",
    "# batch size indicates the number of images whihc will be trained in a batch\n",
    "\n",
    "x_train = train_datagen.flow_from_directory(r'C:\\Users\\anann\\OneDrive\\Desktop\\College\\AI_SmartBridge\\CNN\\Crop-animal data\\trainset', target_size = (64,64),batch_size = 32,class_mode = \"categorical\"\n",
    ")\n",
    "x_test = test_datagen.flow_from_directory(r'C:\\Users\\anann\\OneDrive\\Desktop\\College\\AI_SmartBridge\\CNN\\Crop-animal data\\testset', target_size = (64,64),batch_size = 32,class_mode = \"categorical\"\n",
    ")"
   ]
  },
  {
   "cell_type": "code",
   "execution_count": 4,
   "metadata": {},
   "outputs": [
    {
     "data": {
      "text/plain": [
       "{'bears': 0, 'crows': 1, 'elephants': 2, 'racoons': 3, 'rats': 4}"
      ]
     },
     "execution_count": 4,
     "metadata": {},
     "output_type": "execute_result"
    }
   ],
   "source": [
    "x_train.class_indices"
   ]
  },
  {
   "cell_type": "markdown",
   "metadata": {},
   "source": [
    "## 3. Initialize the model"
   ]
  },
  {
   "cell_type": "code",
   "execution_count": 5,
   "metadata": {},
   "outputs": [],
   "source": [
    "model = Sequential()"
   ]
  },
  {
   "cell_type": "markdown",
   "metadata": {},
   "source": [
    "## 4. Add Convolutional Layer"
   ]
  },
  {
   "cell_type": "code",
   "execution_count": 6,
   "metadata": {},
   "outputs": [],
   "source": [
    "# no of feature detectors = 32\n",
    "# size of feature detectors = (3,3)\n",
    "# image size = 64, 64\n",
    "# 3 indicates RGB (3 channels) for colored images\n",
    "\n",
    "model.add(Convolution2D(32, (3,3), input_shape = (64,64,3)))"
   ]
  },
  {
   "cell_type": "markdown",
   "metadata": {},
   "source": [
    "## 5. Add Pooling Layer"
   ]
  },
  {
   "cell_type": "code",
   "execution_count": 7,
   "metadata": {},
   "outputs": [],
   "source": [
    "# Add pool size, the conventional size is 2 by 2\n",
    "\n",
    "model.add(MaxPooling2D ((2,2)))"
   ]
  },
  {
   "cell_type": "code",
   "execution_count": 8,
   "metadata": {},
   "outputs": [],
   "source": [
    "# Add another convolution layer\n",
    "model.add(Convolution2D(32, (3,3), input_shape = (64,64,3)))"
   ]
  },
  {
   "cell_type": "code",
   "execution_count": 9,
   "metadata": {},
   "outputs": [],
   "source": [
    "# Adding another max pool for the above convolution layer\n",
    "model.add(MaxPooling2D ((2,2)))"
   ]
  },
  {
   "cell_type": "markdown",
   "metadata": {},
   "source": [
    "## 6. Add Flatten/Input Layer"
   ]
  },
  {
   "cell_type": "code",
   "execution_count": 10,
   "metadata": {},
   "outputs": [],
   "source": [
    "model.add(Flatten())"
   ]
  },
  {
   "cell_type": "markdown",
   "metadata": {},
   "source": [
    "## 7. Add Hidden Layers"
   ]
  },
  {
   "cell_type": "code",
   "execution_count": 11,
   "metadata": {},
   "outputs": [],
   "source": [
    "model.add(Dense(units = 128, kernel_initializer = \"random_uniform\", activation =\"relu\"))"
   ]
  },
  {
   "cell_type": "code",
   "execution_count": 12,
   "metadata": {},
   "outputs": [],
   "source": [
    "# Randomly turn neurons on and off to improve convergence\n",
    "# Add dropout layer\n",
    "model.add(Dropout(0.3)) "
   ]
  },
  {
   "cell_type": "code",
   "execution_count": 13,
   "metadata": {},
   "outputs": [],
   "source": [
    "model.add(Dense(units = 128, kernel_initializer = \"random_uniform\", activation =\"relu\"))"
   ]
  },
  {
   "cell_type": "code",
   "execution_count": 14,
   "metadata": {},
   "outputs": [],
   "source": [
    "# Add another Dropout layer\n",
    "model.add(Dropout(0.3))"
   ]
  },
  {
   "cell_type": "code",
   "execution_count": 15,
   "metadata": {},
   "outputs": [],
   "source": [
    "model.add(Dense(units = 128, kernel_initializer = \"random_uniform\", activation =\"relu\"))"
   ]
  },
  {
   "cell_type": "code",
   "execution_count": 16,
   "metadata": {},
   "outputs": [],
   "source": [
    "model.add(Dropout(0.3))"
   ]
  },
  {
   "cell_type": "markdown",
   "metadata": {},
   "source": [
    "## 8. Add Ouput Layer"
   ]
  },
  {
   "cell_type": "code",
   "execution_count": 17,
   "metadata": {},
   "outputs": [],
   "source": [
    "model.add(Dense(units = 5, kernel_initializer = \"random_uniform\", activation =\"softmax\"))"
   ]
  },
  {
   "cell_type": "markdown",
   "metadata": {},
   "source": [
    "## 9. Compile the Process"
   ]
  },
  {
   "cell_type": "code",
   "execution_count": 18,
   "metadata": {},
   "outputs": [],
   "source": [
    "model.compile(optimizer = \"adam\", loss = \"categorical_crossentropy\", metrics = [\"accuracy\"])"
   ]
  },
  {
   "cell_type": "markdown",
   "metadata": {},
   "source": [
    "> steps per epoch is the number of images the model is trained on -> **number of images in train set / batch size** = 1495/32\n",
    "\n",
    "> validation steps is the no of images the model tests upon -> no of **images in test set / batch size** = 640/32"
   ]
  },
  {
   "cell_type": "code",
   "execution_count": 19,
   "metadata": {},
   "outputs": [],
   "source": [
    "# Early Stopping\n",
    "from tensorflow.keras.callbacks import EarlyStopping\n",
    "early_stop = EarlyStopping(monitor='val_loss', mode='min', verbose=1, patience=5)"
   ]
  },
  {
   "cell_type": "markdown",
   "metadata": {},
   "source": [
    "## 10. Train the data"
   ]
  },
  {
   "cell_type": "code",
   "execution_count": 20,
   "metadata": {},
   "outputs": [
    {
     "name": "stderr",
     "output_type": "stream",
     "text": [
      "C:\\Users\\anann\\anaconda3\\lib\\site-packages\\tensorflow\\python\\keras\\engine\\training.py:1940: UserWarning: `Model.fit_generator` is deprecated and will be removed in a future version. Please use `Model.fit`, which supports generators.\n",
      "  warnings.warn('`Model.fit_generator` is deprecated and '\n"
     ]
    },
    {
     "name": "stdout",
     "output_type": "stream",
     "text": [
      "Epoch 1/50\n",
      "47/47 [==============================] - 9s 184ms/step - loss: 1.5942 - accuracy: 0.2468 - val_loss: 1.4748 - val_accuracy: 0.5781\n",
      "Epoch 2/50\n",
      "47/47 [==============================] - 10s 221ms/step - loss: 1.4900 - accuracy: 0.3130 - val_loss: 1.1827 - val_accuracy: 0.6203\n",
      "Epoch 3/50\n",
      "47/47 [==============================] - 11s 238ms/step - loss: 1.3380 - accuracy: 0.4609 - val_loss: 0.9602 - val_accuracy: 0.6469\n",
      "Epoch 4/50\n",
      "47/47 [==============================] - 10s 210ms/step - loss: 1.1747 - accuracy: 0.5331 - val_loss: 1.0162 - val_accuracy: 0.6156\n",
      "Epoch 5/50\n",
      "47/47 [==============================] - 10s 212ms/step - loss: 1.1012 - accuracy: 0.5672 - val_loss: 0.9857 - val_accuracy: 0.5906\n",
      "Epoch 6/50\n",
      "47/47 [==============================] - 10s 225ms/step - loss: 0.9997 - accuracy: 0.6040 - val_loss: 0.8877 - val_accuracy: 0.6391\n",
      "Epoch 7/50\n",
      "47/47 [==============================] - 11s 233ms/step - loss: 0.9414 - accuracy: 0.6428 - val_loss: 0.7408 - val_accuracy: 0.7156\n",
      "Epoch 8/50\n",
      "47/47 [==============================] - 10s 220ms/step - loss: 0.8675 - accuracy: 0.6709 - val_loss: 0.8522 - val_accuracy: 0.6422\n",
      "Epoch 9/50\n",
      "47/47 [==============================] - 11s 235ms/step - loss: 0.7901 - accuracy: 0.7017 - val_loss: 0.7259 - val_accuracy: 0.7094\n",
      "Epoch 10/50\n",
      "47/47 [==============================] - 11s 225ms/step - loss: 0.7217 - accuracy: 0.7291 - val_loss: 0.5732 - val_accuracy: 0.7797\n",
      "Epoch 11/50\n",
      "47/47 [==============================] - 11s 234ms/step - loss: 0.6885 - accuracy: 0.7498 - val_loss: 0.6128 - val_accuracy: 0.7688\n",
      "Epoch 12/50\n",
      "47/47 [==============================] - 11s 235ms/step - loss: 0.6606 - accuracy: 0.7773 - val_loss: 0.4865 - val_accuracy: 0.7984\n",
      "Epoch 13/50\n",
      "47/47 [==============================] - 12s 259ms/step - loss: 0.5833 - accuracy: 0.7967 - val_loss: 0.3598 - val_accuracy: 0.8578\n",
      "Epoch 14/50\n",
      "47/47 [==============================] - 13s 283ms/step - loss: 0.5470 - accuracy: 0.8127 - val_loss: 0.3619 - val_accuracy: 0.8656\n",
      "Epoch 15/50\n",
      "47/47 [==============================] - 11s 231ms/step - loss: 0.4948 - accuracy: 0.8201 - val_loss: 0.3624 - val_accuracy: 0.8422\n",
      "Epoch 16/50\n",
      "47/47 [==============================] - 10s 221ms/step - loss: 0.4616 - accuracy: 0.8408 - val_loss: 0.2283 - val_accuracy: 0.9266\n",
      "Epoch 17/50\n",
      "47/47 [==============================] - 11s 235ms/step - loss: 0.4345 - accuracy: 0.8502 - val_loss: 0.2867 - val_accuracy: 0.8891\n",
      "Epoch 18/50\n",
      "47/47 [==============================] - 11s 229ms/step - loss: 0.4899 - accuracy: 0.8241 - val_loss: 0.2888 - val_accuracy: 0.8938\n",
      "Epoch 19/50\n",
      "47/47 [==============================] - 11s 235ms/step - loss: 0.3732 - accuracy: 0.8722 - val_loss: 0.1801 - val_accuracy: 0.9312\n",
      "Epoch 20/50\n",
      "47/47 [==============================] - 13s 269ms/step - loss: 0.3517 - accuracy: 0.8829 - val_loss: 0.1198 - val_accuracy: 0.9547\n",
      "Epoch 21/50\n",
      "47/47 [==============================] - 11s 228ms/step - loss: 0.3488 - accuracy: 0.8923 - val_loss: 0.1486 - val_accuracy: 0.9563\n",
      "Epoch 22/50\n",
      "47/47 [==============================] - 10s 220ms/step - loss: 0.2779 - accuracy: 0.9043 - val_loss: 0.0961 - val_accuracy: 0.9656\n",
      "Epoch 23/50\n",
      "47/47 [==============================] - 11s 236ms/step - loss: 0.2707 - accuracy: 0.9050 - val_loss: 0.1021 - val_accuracy: 0.9672\n",
      "Epoch 24/50\n",
      "47/47 [==============================] - 11s 235ms/step - loss: 0.2793 - accuracy: 0.9077 - val_loss: 0.0873 - val_accuracy: 0.9688\n",
      "Epoch 25/50\n",
      "47/47 [==============================] - 11s 245ms/step - loss: 0.3246 - accuracy: 0.8890 - val_loss: 0.1924 - val_accuracy: 0.9219\n",
      "Epoch 26/50\n",
      "47/47 [==============================] - 10s 220ms/step - loss: 0.2591 - accuracy: 0.9090 - val_loss: 0.0787 - val_accuracy: 0.9734\n",
      "Epoch 27/50\n",
      "47/47 [==============================] - 10s 220ms/step - loss: 0.2559 - accuracy: 0.9244 - val_loss: 0.0570 - val_accuracy: 0.9891\n",
      "Epoch 28/50\n",
      "47/47 [==============================] - 10s 222ms/step - loss: 0.2250 - accuracy: 0.9271 - val_loss: 0.1146 - val_accuracy: 0.9563\n",
      "Epoch 29/50\n",
      "47/47 [==============================] - 10s 217ms/step - loss: 0.2042 - accuracy: 0.9284 - val_loss: 0.0779 - val_accuracy: 0.9750\n",
      "Epoch 30/50\n",
      "47/47 [==============================] - 10s 218ms/step - loss: 0.2059 - accuracy: 0.9284 - val_loss: 0.0504 - val_accuracy: 0.9781\n",
      "Epoch 31/50\n",
      "47/47 [==============================] - 11s 240ms/step - loss: 0.2017 - accuracy: 0.9358 - val_loss: 0.0508 - val_accuracy: 0.9875\n",
      "Epoch 32/50\n",
      "47/47 [==============================] - 12s 247ms/step - loss: 0.1772 - accuracy: 0.9405 - val_loss: 0.0760 - val_accuracy: 0.9609\n",
      "Epoch 33/50\n",
      "47/47 [==============================] - 11s 231ms/step - loss: 0.2457 - accuracy: 0.9258 - val_loss: 0.0672 - val_accuracy: 0.9812\n",
      "Epoch 34/50\n",
      "47/47 [==============================] - 11s 234ms/step - loss: 0.2068 - accuracy: 0.9338 - val_loss: 0.0425 - val_accuracy: 0.9891\n",
      "Epoch 35/50\n",
      "47/47 [==============================] - 11s 225ms/step - loss: 0.2288 - accuracy: 0.9231 - val_loss: 0.0685 - val_accuracy: 0.9703\n",
      "Epoch 36/50\n",
      "47/47 [==============================] - 11s 234ms/step - loss: 0.1970 - accuracy: 0.9338 - val_loss: 0.0373 - val_accuracy: 0.9859\n",
      "Epoch 37/50\n",
      "47/47 [==============================] - 12s 251ms/step - loss: 0.1917 - accuracy: 0.9391 - val_loss: 0.0645 - val_accuracy: 0.9859\n",
      "Epoch 38/50\n",
      "47/47 [==============================] - 11s 226ms/step - loss: 0.1701 - accuracy: 0.9478 - val_loss: 0.0195 - val_accuracy: 0.9969\n",
      "Epoch 39/50\n",
      "47/47 [==============================] - 11s 236ms/step - loss: 0.1847 - accuracy: 0.9358 - val_loss: 0.0286 - val_accuracy: 0.9922\n",
      "Epoch 40/50\n",
      "47/47 [==============================] - 11s 242ms/step - loss: 0.1464 - accuracy: 0.9512 - val_loss: 0.0190 - val_accuracy: 0.9984\n",
      "Epoch 41/50\n",
      "47/47 [==============================] - 11s 227ms/step - loss: 0.1346 - accuracy: 0.9585 - val_loss: 0.0449 - val_accuracy: 0.9797\n",
      "Epoch 42/50\n",
      "47/47 [==============================] - 11s 240ms/step - loss: 0.1325 - accuracy: 0.9532 - val_loss: 0.0242 - val_accuracy: 0.9906\n",
      "Epoch 43/50\n",
      "47/47 [==============================] - 11s 226ms/step - loss: 0.1145 - accuracy: 0.9692 - val_loss: 0.0176 - val_accuracy: 0.9937\n",
      "Epoch 44/50\n",
      "47/47 [==============================] - 11s 228ms/step - loss: 0.1378 - accuracy: 0.9585 - val_loss: 0.0462 - val_accuracy: 0.9891\n",
      "Epoch 45/50\n",
      "47/47 [==============================] - 11s 234ms/step - loss: 0.1485 - accuracy: 0.9498 - val_loss: 0.0118 - val_accuracy: 0.9953\n",
      "Epoch 46/50\n",
      "47/47 [==============================] - 11s 238ms/step - loss: 0.1143 - accuracy: 0.9672 - val_loss: 0.0074 - val_accuracy: 0.9984\n",
      "Epoch 47/50\n",
      "47/47 [==============================] - 11s 238ms/step - loss: 0.1272 - accuracy: 0.9639 - val_loss: 0.0137 - val_accuracy: 0.9937\n",
      "Epoch 48/50\n",
      "47/47 [==============================] - 13s 276ms/step - loss: 0.1097 - accuracy: 0.9599 - val_loss: 0.0065 - val_accuracy: 0.9984\n",
      "Epoch 49/50\n",
      "47/47 [==============================] - 11s 227ms/step - loss: 0.1341 - accuracy: 0.9472 - val_loss: 0.0149 - val_accuracy: 0.9937\n",
      "Epoch 50/50\n",
      "47/47 [==============================] - 11s 224ms/step - loss: 0.1024 - accuracy: 0.9612 - val_loss: 0.0180 - val_accuracy: 0.9953\n"
     ]
    }
   ],
   "source": [
    " \n",
    "hist = model.fit_generator(x_train,steps_per_epoch = 47 , epochs = 50 , validation_data = x_test, validation_steps = 20, callbacks=[early_stop])"
   ]
  },
  {
   "cell_type": "code",
   "execution_count": 21,
   "metadata": {},
   "outputs": [
    {
     "data": {
      "text/plain": [
       "[<matplotlib.lines.Line2D at 0x26257de21c0>]"
      ]
     },
     "execution_count": 21,
     "metadata": {},
     "output_type": "execute_result"
    },
    {
     "data": {
      "image/png": "[encoded data removed]",
      "text/plain": [
       "<Figure size 432x288 with 2 Axes>"
      ]
     },
     "metadata": {
      "needs_background": "light"
     },
     "output_type": "display_data"
    }
   ],
   "source": [
    "# Plotting\n",
    "import matplotlib.pyplot as plt\n",
    "\n",
    "# plot loss\n",
    "plt.subplot(3,1,1)\n",
    "plt.title('Cross Entropy Loss')\n",
    "plt.plot(hist.history['loss'], color='blue', label='train')\n",
    "plt.plot(hist.history['val_loss'], color='orange', label='test')\n",
    "# plot accuracy\n",
    "plt.subplot(3,1,3)\n",
    "plt.title('Classification Accuracy')\n",
    "plt.plot(hist.history['accuracy'], color='blue', label='train')\n",
    "plt.plot(hist.history['val_accuracy'], color='orange', label='test')"
   ]
  },
  {
   "cell_type": "markdown",
   "metadata": {},
   "source": [
    "## 11. Save the model"
   ]
  },
  {
   "cell_type": "code",
   "execution_count": 23,
   "metadata": {},
   "outputs": [],
   "source": [
    "model.save('animal.h5')"
   ]
  },
  {
   "cell_type": "markdown",
   "metadata": {},
   "source": [
    "## 12. Test the model\n",
    "1. Import libraries\n",
    "2. Load the model\n",
    "3. Load the image\n",
    "4. Convert the image to CNN architecture\n",
    "5. Predict the image"
   ]
  },
  {
   "cell_type": "markdown",
   "metadata": {},
   "source": [
    "### a. Import Libraries"
   ]
  },
  {
   "cell_type": "code",
   "execution_count": 24,
   "metadata": {},
   "outputs": [],
   "source": [
    "from tensorflow.keras.models import load_model\n",
    "from tensorflow.keras.preprocessing import image"
   ]
  },
  {
   "cell_type": "markdown",
   "metadata": {},
   "source": [
    "### b. Load the model"
   ]
  },
  {
   "cell_type": "code",
   "execution_count": 25,
   "metadata": {},
   "outputs": [],
   "source": [
    "model = load_model (\"animal.h5\")"
   ]
  },
  {
   "cell_type": "markdown",
   "metadata": {},
   "source": [
    "### c. Load the image"
   ]
  },
  {
   "cell_type": "code",
   "execution_count": 35,
   "metadata": {},
   "outputs": [],
   "source": [
    "img = image.load_img(\"bear.jpeg\", target_size=(64,64))"
   ]
  },
  {
   "cell_type": "markdown",
   "metadata": {},
   "source": [
    "### d. Convert the image to CNN architecture"
   ]
  },
  {
   "cell_type": "code",
   "execution_count": 27,
   "metadata": {},
   "outputs": [
    {
     "data": {
      "text/plain": [
       "PIL.Image.Image"
      ]
     },
     "execution_count": 27,
     "metadata": {},
     "output_type": "execute_result"
    }
   ],
   "source": [
    "# type of image is still image\n",
    "type(img)"
   ]
  },
  {
   "cell_type": "markdown",
   "metadata": {},
   "source": [
    "> ***We have to convert the image type to array***"
   ]
  },
  {
   "cell_type": "code",
   "execution_count": 36,
   "metadata": {},
   "outputs": [],
   "source": [
    "x = image.img_to_array(img)"
   ]
  },
  {
   "cell_type": "code",
   "execution_count": 30,
   "metadata": {},
   "outputs": [
    {
     "data": {
      "text/plain": [
       "(64, 64, 3)"
      ]
     },
     "execution_count": 30,
     "metadata": {},
     "output_type": "execute_result"
    }
   ],
   "source": [
    "x.shape"
   ]
  },
  {
   "cell_type": "markdown",
   "metadata": {},
   "source": [
    "> **For CNN, the x_shape should be of 4 dimensions**, thus we must expand the x_shape from 3 to 4 dimensions"
   ]
  },
  {
   "cell_type": "code",
   "execution_count": 37,
   "metadata": {},
   "outputs": [],
   "source": [
    "x = np.expand_dims(x, axis = 0)"
   ]
  },
  {
   "cell_type": "code",
   "execution_count": 32,
   "metadata": {},
   "outputs": [
    {
     "data": {
      "text/plain": [
       "(1, 64, 64, 3)"
      ]
     },
     "execution_count": 32,
     "metadata": {},
     "output_type": "execute_result"
    }
   ],
   "source": [
    "x.shape"
   ]
  },
  {
   "cell_type": "markdown",
   "metadata": {},
   "source": [
    "### e. Predict the image"
   ]
  },
  {
   "cell_type": "code",
   "execution_count": 38,
   "metadata": {},
   "outputs": [
    {
     "data": {
      "text/plain": [
       "0"
      ]
     },
     "execution_count": 38,
     "metadata": {},
     "output_type": "execute_result"
    }
   ],
   "source": [
    "pred = np.argmax(model.predict(x))\n",
    "pred"
   ]
  },
  {
   "cell_type": "code",
   "execution_count": 39,
   "metadata": {},
   "outputs": [
    {
     "data": {
      "text/plain": [
       "'bears'"
      ]
     },
     "execution_count": 39,
     "metadata": {},
     "output_type": "execute_result"
    }
   ],
   "source": [
    "index = ['bears', 'crows', 'elephants', 'racoons', 'rats']\n",
    "prediction = index[pred]\n",
    "prediction"
   ]
  },
  {
   "cell_type": "code",
   "execution_count": 40,
   "metadata": {},
   "outputs": [
    {
     "data": {
      "text/plain": [
       "'crows'"
      ]
     },
     "execution_count": 40,
     "metadata": {},
     "output_type": "execute_result"
    }
   ],
   "source": [
    "# Another Image\n",
    "img = image.load_img(\"crow.jpg\", target_size=(64,64))\n",
    "x = image.img_to_array(img)\n",
    "x = np.expand_dims(x, axis = 0)\n",
    "pred = np.argmax(model.predict(x))\n",
    "index[pred]"
   ]
  },
  {
   "cell_type": "code",
   "execution_count": 44,
   "metadata": {},
   "outputs": [
    {
     "data": {
      "text/plain": [
       "'elephants'"
      ]
     },
     "execution_count": 44,
     "metadata": {},
     "output_type": "execute_result"
    }
   ],
   "source": [
    "# Another Image\n",
    "img = image.load_img(\"elephant.jpeg\", target_size=(64,64))\n",
    "x = image.img_to_array(img)\n",
    "x = np.expand_dims(x, axis = 0)\n",
    "pred = np.argmax(model.predict(x))\n",
    "index[pred]"
   ]
  },
  {
   "cell_type": "code",
   "execution_count": 42,
   "metadata": {},
   "outputs": [
    {
     "data": {
      "text/plain": [
       "'racoons'"
      ]
     },
     "execution_count": 42,
     "metadata": {},
     "output_type": "execute_result"
    }
   ],
   "source": [
    "# Another Image\n",
    "img = image.load_img(\"racoon.jfif\", target_size=(64,64))\n",
    "x = image.img_to_array(img)\n",
    "x = np.expand_dims(x, axis = 0)\n",
    "pred = np.argmax(model.predict(x))\n",
    "index[pred]"
   ]
  },
  {
   "cell_type": "code",
   "execution_count": 43,
   "metadata": {},
   "outputs": [
    {
     "data": {
      "text/plain": [
       "'rats'"
      ]
     },
     "execution_count": 43,
     "metadata": {},
     "output_type": "execute_result"
    }
   ],
   "source": [
    "# Another Image\n",
    "img = image.load_img(\"rat.jpg\", target_size=(64,64))\n",
    "x = image.img_to_array(img)\n",
    "x = np.expand_dims(x, axis = 0)\n",
    "pred = np.argmax(model.predict(x))\n",
    "index[pred]"
   ]
  },
  {
   "cell_type": "code",
   "execution_count": null,
   "metadata": {},
   "outputs": [],
   "source": []
  }
 ],
 "metadata": {
  "kernelspec": {
   "display_name": "Python 3",
   "language": "python",
   "name": "python3"
  },
  "language_info": {
   "codemirror_mode": {
    "name": "ipython",
    "version": 3
   },
   "file_extension": ".py",
   "mimetype": "text/x-python",
   "name": "python",
   "nbconvert_exporter": "python",
   "pygments_lexer": "ipython3",
   "version": "3.8.8"
  }
 },
 "nbformat": 4,
 "nbformat_minor": 2
}
